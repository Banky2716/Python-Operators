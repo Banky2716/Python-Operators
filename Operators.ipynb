{
 "cells": [
  {
   "cell_type": "markdown",
   "id": "1e1f5d9e-84bd-441c-ac80-fada850305c0",
   "metadata": {},
   "source": [
    "# Logical Operators"
   ]
  },
  {
   "cell_type": "code",
   "execution_count": 3,
   "id": "594a133a-ccf1-430d-9217-b52d1e62d545",
   "metadata": {},
   "outputs": [
    {
     "name": "stdout",
     "output_type": "stream",
     "text": [
      "Both a and b are greater than 0\n"
     ]
    }
   ],
   "source": [
    "# Logical AND operator\n",
    "a = 10\n",
    "b = 20\n",
    "if a > 0 and b > 0:\n",
    "    print(\"Both a and b are greater than 0\")"
   ]
  },
  {
   "cell_type": "code",
   "execution_count": 5,
   "id": "ea857590-4c3c-49b3-a67a-8cbc0bd4328f",
   "metadata": {},
   "outputs": [
    {
     "name": "stdout",
     "output_type": "stream",
     "text": [
      "Either a or b is greater than 0\n"
     ]
    }
   ],
   "source": [
    "# Logical OR operator\n",
    "a = 10\n",
    "b = -5\n",
    "if a > 0 or b > 0:\n",
    "    print(\"Either a or b is greater than 0\")"
   ]
  },
  {
   "cell_type": "code",
   "execution_count": 7,
   "id": "f04f68a2-7901-4621-b644-376fce41f99a",
   "metadata": {},
   "outputs": [
    {
     "name": "stdout",
     "output_type": "stream",
     "text": [
      "a is True\n"
     ]
    }
   ],
   "source": [
    "# Logical NOT operator\n",
    "a = True\n",
    "if not a:\n",
    "    print(\"a is False\")\n",
    "else:\n",
    "    print(\"a is True\")"
   ]
  },
  {
   "cell_type": "markdown",
   "id": "ceb5a136-7554-43ca-b937-39bbd19267b1",
   "metadata": {},
   "source": [
    "# Bitwise Operators"
   ]
  },
  {
   "cell_type": "code",
   "execution_count": 10,
   "id": "429bfed9-c2e1-424c-9c09-3939f05d14ca",
   "metadata": {},
   "outputs": [
    {
     "name": "stdout",
     "output_type": "stream",
     "text": [
      "4\n"
     ]
    }
   ],
   "source": [
    "# Bitwise AND\n",
    "a = 12  # 1100 in binary\n",
    "b = 7   # 0111 in binary\n",
    "result = a & b # 0100 in binary\n",
    "print(result) # Output: 4"
   ]
  },
  {
   "cell_type": "code",
   "execution_count": 12,
   "id": "8e599ea6-ddb6-4c6e-bb60-934d1707bc36",
   "metadata": {},
   "outputs": [
    {
     "name": "stdout",
     "output_type": "stream",
     "text": [
      "15\n"
     ]
    }
   ],
   "source": [
    "# Bitwise OR\n",
    "a = 12  # 1100 in binary\n",
    "b = 7   # 0111 in binary\n",
    "result = a | b  # 1111 in binary\n",
    "print(result)  # Output: 15"
   ]
  },
  {
   "cell_type": "code",
   "execution_count": 20,
   "id": "120d2bdc-9240-404e-b978-5ed18784d74b",
   "metadata": {},
   "outputs": [
    {
     "name": "stdout",
     "output_type": "stream",
     "text": [
      "11\n"
     ]
    }
   ],
   "source": [
    "# Bitwise XOR\n",
    "a = 12  # 1100 in binary\n",
    "b = 7   # 0111 in binary\n",
    "result = a ^ b  # 1011 in binary\n",
    "print(result)  # Output: 11"
   ]
  },
  {
   "cell_type": "code",
   "execution_count": 18,
   "id": "df19fe6b-619b-47cc-9434-5e9c1c57ce9f",
   "metadata": {},
   "outputs": [
    {
     "name": "stdout",
     "output_type": "stream",
     "text": [
      "-13\n"
     ]
    }
   ],
   "source": [
    "# Bitwise NOT\n",
    "a = 12  # 1100 in binary\n",
    "result = ~a  # -13 in decimal\n",
    "print(result)  # Output: -13"
   ]
  },
  {
   "cell_type": "code",
   "execution_count": 22,
   "id": "1b5e7585-189b-4ae1-b1a8-63f602701e0c",
   "metadata": {},
   "outputs": [
    {
     "name": "stdout",
     "output_type": "stream",
     "text": [
      "20\n"
     ]
    }
   ],
   "source": [
    "# Left Shift\n",
    "a = 5  # 0101 in binary\n",
    "result = a << 2  # 010100 in binary, equivalent to 20 in decimal\n",
    "print(result)  # Output: 20"
   ]
  },
  {
   "cell_type": "code",
   "execution_count": 24,
   "id": "77528f44-75f5-4cfc-9b28-a46475bc2cc4",
   "metadata": {},
   "outputs": [
    {
     "name": "stdout",
     "output_type": "stream",
     "text": [
      "3\n"
     ]
    }
   ],
   "source": [
    "# Right Shift\n",
    "a = 13  # 1101 in binary\n",
    "result = a >> 2  # 0011 in binary, equivalent to 3 in decimal\n",
    "print(result)  # Output: 3"
   ]
  },
  {
   "cell_type": "markdown",
   "id": "1075ec03-4706-4a52-9d6c-7b30a6e4d560",
   "metadata": {},
   "source": [
    "# Assignment Operators"
   ]
  },
  {
   "cell_type": "code",
   "execution_count": 27,
   "id": "dc28c357-8425-4ddf-af24-ea594325d041",
   "metadata": {},
   "outputs": [
    {
     "name": "stdout",
     "output_type": "stream",
     "text": [
      "10\n"
     ]
    }
   ],
   "source": [
    "# Assignment operator\n",
    "x = 10\n",
    "print(x)  # Output: 10"
   ]
  },
  {
   "cell_type": "code",
   "execution_count": 29,
   "id": "2658f188-b91d-43f0-b2bd-2ec1640b7737",
   "metadata": {},
   "outputs": [
    {
     "name": "stdout",
     "output_type": "stream",
     "text": [
      "15\n"
     ]
    }
   ],
   "source": [
    "# Addition assignment\n",
    "x += 5  # Equivalent to x = x + 5\n",
    "print(x)  # Output: 15"
   ]
  },
  {
   "cell_type": "code",
   "execution_count": 31,
   "id": "4c163f1f-4c12-48aa-9f73-d4d54c5365af",
   "metadata": {},
   "outputs": [
    {
     "name": "stdout",
     "output_type": "stream",
     "text": [
      "12\n"
     ]
    }
   ],
   "source": [
    "# Subtracting assignment\n",
    "x -= 3  #  Equivalent to x = x - 3\n",
    "print(x)  # Output: 12"
   ]
  },
  {
   "cell_type": "code",
   "execution_count": 33,
   "id": "57cdd963-4d0b-4b2b-b98d-29423728ad20",
   "metadata": {},
   "outputs": [
    {
     "name": "stdout",
     "output_type": "stream",
     "text": [
      "24\n"
     ]
    }
   ],
   "source": [
    "# Multiplication assignment\n",
    "x *= 2  # Equivalent to x = x * 2\n",
    "print(x)  # Output: 24"
   ]
  },
  {
   "cell_type": "code",
   "execution_count": 35,
   "id": "8d658553-de5c-4b02-8173-0cb5e6e647ab",
   "metadata": {},
   "outputs": [
    {
     "name": "stdout",
     "output_type": "stream",
     "text": [
      "6.0\n"
     ]
    }
   ],
   "source": [
    "# Division assignment\n",
    "x /= 4  # Equivalent to x = x / 4\n",
    "print(x)  # Output: 6.0"
   ]
  },
  {
   "cell_type": "code",
   "execution_count": 37,
   "id": "1c950d92-dc63-4231-9ece-26b956b92ee7",
   "metadata": {},
   "outputs": [
    {
     "name": "stdout",
     "output_type": "stream",
     "text": [
      "0.0\n"
     ]
    }
   ],
   "source": [
    "# Modulus assignment\n",
    "x %= 3  # Equivalent to x = x % 3\n",
    "print(x)  # Output: 0.0"
   ]
  },
  {
   "cell_type": "code",
   "execution_count": 39,
   "id": "d25b85c8-91e6-4adc-b24e-f28e2eb75923",
   "metadata": {},
   "outputs": [
    {
     "name": "stdout",
     "output_type": "stream",
     "text": [
      "0.0\n"
     ]
    }
   ],
   "source": [
    "# Exponentiation assignment\n",
    "x **= 2  # Equivalent to x = x ** 2\n",
    "print(x)  # Output: 0.0"
   ]
  },
  {
   "cell_type": "code",
   "execution_count": 41,
   "id": "24e0cda7-7409-407e-b8c3-6ed90a9a1361",
   "metadata": {},
   "outputs": [
    {
     "name": "stdout",
     "output_type": "stream",
     "text": [
      "0.0\n"
     ]
    }
   ],
   "source": [
    "# Floor division assignment\n",
    "x //= 3 # Equivalent to x = x // 3\n",
    "print(x)  # Output: 0"
   ]
  },
  {
   "cell_type": "markdown",
   "id": "f1d0af91-0819-4614-83b1-9450ab24f3c1",
   "metadata": {},
   "source": [
    "# Practice"
   ]
  },
  {
   "cell_type": "code",
   "execution_count": 48,
   "id": "ba4d1232-f946-49a0-9327-c9e3d1caf6c9",
   "metadata": {},
   "outputs": [
    {
     "name": "stdout",
     "output_type": "stream",
     "text": [
      "15\n",
      "5\n",
      "50\n",
      "2.0\n",
      "1\n",
      "1000\n",
      "3\n"
     ]
    }
   ],
   "source": [
    "# Arithmetic operators\n",
    "x = 10 + 5  # Addition\n",
    "print(x)  # Output: 15\n",
    "\n",
    "y = 10 - 5  # Subtraction\n",
    "print(y)  # Output: 5\n",
    "\n",
    "z = 10 * 5  # Multiplication\n",
    "print(z)  # Output: 50\n",
    "\n",
    "w = 10 / 5  # Division\n",
    "print(w)  # Output: 2.0\n",
    "\n",
    "mod = 10 % 3  # Modulus\n",
    "print(mod)  # Output: 1\n",
    "\n",
    "exp = 10**3  # Exponentiation\n",
    "print(exp)  # Output: 1000\n",
    "\n",
    "floor_div = 10 // 3  # Floor Division\n",
    "print(floor_div)  # Output: 3"
   ]
  },
  {
   "cell_type": "code",
   "execution_count": 50,
   "id": "3665d4db-cc7a-4f0e-851c-962d52b3623a",
   "metadata": {},
   "outputs": [
    {
     "name": "stdout",
     "output_type": "stream",
     "text": [
      "8\n",
      "0\n",
      "15\n",
      "1.6666666666666667\n",
      "2\n",
      "125\n",
      "1\n"
     ]
    }
   ],
   "source": [
    "# Assignment operators\n",
    "a = 5\n",
    "a += 3  # Addition assignment\n",
    "print(a)  # Output: 8\n",
    "\n",
    "b = 5\n",
    "b -= 5  # Subtraction assignment\n",
    "print(b)  # Output: 2\n",
    "\n",
    "c = 5\n",
    "c *= 3  # Multiplication assignment\n",
    "print(c)  # Output: 15\n",
    "\n",
    "d = 5\n",
    "d /= 3  # Division assignment\n",
    "print(d)  # Output: 1.6666666666666667\n",
    "\n",
    "e = 5\n",
    "e %= 3  # Modulus assignment\n",
    "print(e)  # Output: 2\n",
    "\n",
    "f = 5\n",
    "f **= 3  # Modulus assignment\n",
    "print(f)  # Output: 125\n",
    "\n",
    "g = 5\n",
    "g //= 3 # Floor Division assignment\n",
    "print(g) # Output: 1"
   ]
  },
  {
   "cell_type": "code",
   "execution_count": 52,
   "id": "5e6e3fd6-8b72-42b8-ad92-b50a1ef926c8",
   "metadata": {},
   "outputs": [
    {
     "name": "stdout",
     "output_type": "stream",
     "text": [
      "False\n",
      "True\n",
      "False\n",
      "True\n",
      "False\n",
      "True\n"
     ]
    }
   ],
   "source": [
    "# Comparison operators\n",
    "x = 5\n",
    "y = 10\n",
    "print(x == y)  # Output: False\n",
    "\n",
    "print(x != y)  # Output: True\n",
    "\n",
    "print(x > y)  # Output: False\n",
    "\n",
    "print(x < y)  # Output: True\n",
    "\n",
    "print(x >= y)  # Output: False\n",
    "\n",
    "print(x <= y)  # Output: True"
   ]
  },
  {
   "cell_type": "code",
   "execution_count": 54,
   "id": "d928dd2c-c4b1-4c7e-b95a-c8e4bdeefa2a",
   "metadata": {},
   "outputs": [
    {
     "name": "stdout",
     "output_type": "stream",
     "text": [
      "False\n",
      "True\n",
      "False\n"
     ]
    }
   ],
   "source": [
    "# Logical operators\n",
    "a = True\n",
    "b = False\n",
    "print(a and b)  # Output: False\n",
    "\n",
    "print(a or b)  # Output: True\n",
    "\n",
    "print(not a)  # Output: False"
   ]
  },
  {
   "cell_type": "code",
   "execution_count": 56,
   "id": "f3057f82-1a24-40a4-992f-b6433a0c0319",
   "metadata": {},
   "outputs": [
    {
     "name": "stdout",
     "output_type": "stream",
     "text": [
      "2\n",
      "15\n",
      "13\n",
      "-11\n",
      "40\n",
      "2\n"
     ]
    }
   ],
   "source": [
    "# Bitwise operators\n",
    "x = 10  # 1010 in binary\n",
    "y = 7   # 0111 in binary\n",
    "\n",
    "print(x & y)  # Output: 2 (0010 in binary)\n",
    "\n",
    "print(x | y)  # Output: 15 (1111 in binary)\n",
    "\n",
    "print(x ^ y)  # Output: 13 (1101 in binary)\n",
    "\n",
    "print(~x)  # Output: -11 (Two's complement representation)\n",
    "\n",
    "print(x << 2)  # Output: 40 (101000 in binary)\n",
    "\n",
    "print(x >> 2)  # Output: 2 (0010 in binary)"
   ]
  },
  {
   "cell_type": "code",
   "execution_count": null,
   "id": "5448a6cc-1530-42ef-b3bb-693101ad1e54",
   "metadata": {},
   "outputs": [],
   "source": []
  }
 ],
 "metadata": {
  "kernelspec": {
   "display_name": "Python [conda env:base] *",
   "language": "python",
   "name": "conda-base-py"
  },
  "language_info": {
   "codemirror_mode": {
    "name": "ipython",
    "version": 3
   },
   "file_extension": ".py",
   "mimetype": "text/x-python",
   "name": "python",
   "nbconvert_exporter": "python",
   "pygments_lexer": "ipython3",
   "version": "3.11.5"
  }
 },
 "nbformat": 4,
 "nbformat_minor": 5
}
